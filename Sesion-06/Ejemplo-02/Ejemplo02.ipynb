{
 "cells": [
  {
   "cell_type": "markdown",
   "metadata": {},
   "source": [
    "# Ejemplo02\n",
    "## Dr. Antonio Arista Jalife\n",
    "\n",
    "En este ejemplo implementaremos el algoritmo de retropropagación por completo. Para ello, vamos a tomar el ejemplo de la sesión pasada: Crearemos 2 blobs con 10 características en cada dato."
   ]
  },
  {
   "cell_type": "code",
   "execution_count": 1,
   "metadata": {},
   "outputs": [],
   "source": [
    "import numpy as np\n",
    "from matplotlib import pyplot as plt\n",
    "from sklearn.neural_network import MLPClassifier\n",
    "from sklearn.datasets.samples_generator import make_blobs\n",
    "from sklearn.model_selection import train_test_split"
   ]
  },
  {
   "cell_type": "markdown",
   "metadata": {},
   "source": [
    "Vamos a construir un dataset, sin embargo necesitamos que tenga cierta forma: Los datos de entrada deben tener la forma (num de caracteristicas, num de muestras). Y los datos de salida deben tener la forma (num de datos de salida, num de muestras). Para ello requieres modificar la forma y hacer transposiciones"
   ]
  },
  {
   "cell_type": "code",
   "execution_count": 2,
   "metadata": {},
   "outputs": [
    {
     "data": {
      "image/png": "[encoded data removed]",
      "text/plain": [
       "<Figure size 432x288 with 1 Axes>"
      ]
     },
     "metadata": {
      "needs_background": "light"
     },
     "output_type": "display_data"
    },
    {
     "name": "stdout",
     "output_type": "stream",
     "text": [
      "Datos de entrenamiento en X:(Numero de caracteristicas, Numero de muestras)\n",
      "(10, 600)\n",
      "Y_train shape:(Numero de datos de salida (1), Numero de muestras)\n",
      "(1, 600)\n"
     ]
    }
   ],
   "source": [
    "x, y = make_blobs(n_samples=1000, centers=2, n_features=10)\n",
    "plt.scatter(x[:,0], x[:,1], c=y)\n",
    "plt.show()\n",
    "x_train, x_test, y_train, y_test = train_test_split(x,y,test_size=0.4)\n",
    "\n",
    "x_train = x_train.T\n",
    "x_test = x_test.T\n",
    "y_train = y_train.reshape(y_train.shape[0],1).T\n",
    "y_test = y_test.reshape(y_test.shape[0],1).T\n",
    "\n",
    "print(\"Datos de entrenamiento en X:(Numero de caracteristicas, Numero de muestras)\")\n",
    "print(x_train.shape)\n",
    "print(\"Y_train shape:(Numero de datos de salida (1), Numero de muestras)\")\n",
    "print(y_train.shape)"
   ]
  },
  {
   "cell_type": "markdown",
   "metadata": {},
   "source": [
    "## FrontPropagation\n",
    "Funciones de la sesión pasada y el ejemplo pasado"
   ]
  },
  {
   "cell_type": "code",
   "execution_count": 3,
   "metadata": {},
   "outputs": [],
   "source": [
    "def inicializarCapa(numCaracteristicas, numNeuronas):\n",
    "    w = np.random.rand(numNeuronas,numCaracteristicas)    \n",
    "    b = np.random.rand(numNeuronas,1)\n",
    "    return w,b\n",
    "\n",
    "def calcularZ(w,x,b):\n",
    "    z = np.dot(w,x) + b     \n",
    "    return z\n",
    "\n",
    "def activacion(z):\n",
    "    y = 1 / (1 + np.exp(-z))\n",
    "    return y\n",
    "\n",
    "def capaNeuronal(w,x,b):\n",
    "    z = calcularZ(w,x,b)\n",
    "    y_pred = activacion(z)\n",
    "    return z, y_pred"
   ]
  },
  {
   "cell_type": "markdown",
   "metadata": {},
   "source": [
    "## Cálculo del error\n",
    "En este caso utilizaremos nuevamente el cálculo del error. Es importante que dividamos el error por el número de muestras para que el error sea un promedio y no un número enorme."
   ]
  },
  {
   "cell_type": "code",
   "execution_count": 4,
   "metadata": {},
   "outputs": [],
   "source": [
    "def calcularError(y_esperado, y_obtenido):\n",
    "    numMuestras = y_esperado.shape[0]\n",
    "    error = - (y_esperado *np.log(y_obtenido) + (1 - y_esperado)*np.log(1 - y_obtenido))\n",
    "    error = np.sum(error) / numMuestras\n",
    "    return error"
   ]
  },
  {
   "cell_type": "markdown",
   "metadata": {},
   "source": [
    "## Backpropagation.\n",
    "Para calcular la retropropagación, se debe calcular las derivadas de la capa final y las derivadas de las capas intermedias. las derivadas de la capa final se calculan de la siguiente manera (igual que el ejemplo anterior):"
   ]
  },
  {
   "cell_type": "code",
   "execution_count": 5,
   "metadata": {},
   "outputs": [],
   "source": [
    "def calcular_derivadas_capaFinal(y_esperado, y_obtenido, entradaCapaActual,numMuestras):\n",
    "    dz = y_obtenido - y_esperado    \n",
    "    dw = (1 / numMuestras) * np.dot(dz,entradaCapaActual.T)\n",
    "    db = (1 / numMuestras) * np.sum(dz, axis=1, keepdims=True)\n",
    "    return dz, dw, db"
   ]
  },
  {
   "cell_type": "markdown",
   "metadata": {},
   "source": [
    "Mientras que las capas intermedias se calculan con la siguiente fórmula.\n",
    "\n",
    "$\\frac{dE}{dz}^{l} = W^{T} \\cdot \\frac{dE}{dz}^{l-1} \\times (1 - Z^{2})$\n",
    "\n",
    "$\\frac{dE}{dw} = \\frac{1}{m} \\cdot \\frac{dE}{dz} X^{l-1}$\n",
    "\n",
    "$\\frac{dE}{db} = \\frac{1}{m} \\cdot \\frac{dE}{dz}$"
   ]
  },
  {
   "cell_type": "code",
   "execution_count": 6,
   "metadata": {},
   "outputs": [],
   "source": [
    "def calcular_derivadas_capasIntermedias(dz_capaSiguiente, w_capaSiguiente, salidaCapaActual, entradaCapaActual, numMuestras):\n",
    "    dz = np.multiply(np.dot(w_capaSiguiente.T, dz_capaSiguiente), 1 - np.power(salidaCapaActual, 2))\n",
    "    dw = (1 / numMuestras) * np.dot(dz,entradaCapaActual.T)\n",
    "    db = (1 / numMuestras) * np.sum(dz, axis=1, keepdims=True)\n",
    "    return dz, dw, db"
   ]
  },
  {
   "cell_type": "markdown",
   "metadata": {},
   "source": [
    "## Entrenamiento.\n",
    "Ahora, el algoritmo de entrenamiento primero calcula las capas hacia adelante, y luego las capas hacia atrás en retropropagación. La última capa debe ser retropropagada con una función (capaFinal), y las demás con la otra función (capasIntermedias)"
   ]
  },
  {
   "cell_type": "code",
   "execution_count": 7,
   "metadata": {},
   "outputs": [
    {
     "name": "stdout",
     "output_type": "stream",
     "text": [
      "Epoch:0\n",
      "Error: 1650.3064565961304\n"
     ]
    },
    {
     "name": "stderr",
     "output_type": "stream",
     "text": [
      "/home/nightcrow/gintelligence/lib/python3.5/site-packages/ipykernel_launcher.py:11: RuntimeWarning: overflow encountered in exp\n",
      "  # This is added back by InteractiveShellApp.init_path()\n"
     ]
    },
    {
     "name": "stdout",
     "output_type": "stream",
     "text": [
      "Epoch:1000\n",
      "Error: 184.24099596609523\n",
      "Epoch:2000\n",
      "Error: 103.20707350518846\n",
      "Epoch:3000\n",
      "Error: 72.13906459168805\n",
      "Epoch:4000\n",
      "Error: 56.48156742363206\n",
      "Epoch:5000\n",
      "Error: 45.34371054450018\n",
      "Epoch:6000\n",
      "Error: 39.8877262683776\n",
      "Epoch:7000\n",
      "Error: 36.29758122896061\n",
      "Epoch:8000\n",
      "Error: 30.125778197735748\n",
      "Epoch:9000\n",
      "Error: 25.673676815981192\n",
      "Epoch:10000\n",
      "Error: 23.435453569425004\n",
      "Epoch:11000\n",
      "Error: 21.56765425600446\n",
      "Epoch:12000\n",
      "Error: 18.56562027289496\n",
      "Epoch:13000\n",
      "Error: 16.996980740393916\n",
      "Epoch:14000\n",
      "Error: 15.862729657123205\n",
      "Epoch:15000\n",
      "Error: 14.917996913601904\n",
      "Epoch:16000\n",
      "Error: 14.12454199076112\n",
      "Epoch:17000\n",
      "Error: 13.436956226634173\n",
      "Epoch:18000\n",
      "Error: 12.74151375815064\n",
      "Epoch:19000\n",
      "Error: 12.178449008732592\n",
      "Epoch:20000\n",
      "Error: 11.766323308297821\n",
      "Epoch:21000\n",
      "Error: 11.415035041910802\n",
      "Epoch:22000\n",
      "Error: 11.09998083241578\n",
      "Epoch:23000\n",
      "Error: 10.813899066564076\n",
      "Epoch:24000\n",
      "Error: 10.552878499991532\n",
      "Epoch:25000\n",
      "Error: 10.314031144034047\n",
      "Epoch:26000\n",
      "Error: 10.095074902918864\n",
      "Epoch:27000\n",
      "Error: 9.894083418566279\n",
      "Epoch:28000\n",
      "Error: 9.709073728481016\n",
      "Epoch:29000\n",
      "Error: 9.537702467615613\n",
      "Epoch:30000\n",
      "Error: 9.377674061175476\n",
      "Epoch:31000\n",
      "Error: 9.227366150307152\n",
      "Epoch:32000\n",
      "Error: 9.085864106657663\n",
      "Epoch:33000\n",
      "Error: 8.95261840190966\n",
      "Epoch:34000\n",
      "Error: 8.827138053335231\n",
      "Epoch:35000\n",
      "Error: 8.708064420558888\n",
      "Epoch:36000\n",
      "Error: 7.010047708917346\n",
      "Epoch:37000\n",
      "Error: 6.481408097365368\n",
      "Epoch:38000\n",
      "Error: 6.2340544466486225\n",
      "Epoch:39000\n",
      "Error: 6.077587160571916\n",
      "Epoch:40000\n",
      "Error: 5.912172453517563\n",
      "Epoch:41000\n",
      "Error: 5.748695800282096\n",
      "Epoch:42000\n",
      "Error: 5.6102937794317445\n",
      "Epoch:43000\n",
      "Error: 5.483267776821922\n",
      "Epoch:44000\n",
      "Error: 5.04562868085041\n",
      "Epoch:45000\n",
      "Error: 4.775334937175302\n",
      "Epoch:46000\n",
      "Error: 4.65468263202497\n",
      "Epoch:47000\n",
      "Error: 4.557807625479903\n",
      "Epoch:48000\n",
      "Error: 4.469467001221381\n",
      "Epoch:49000\n",
      "Error: 4.385974805360792\n",
      "Epoch:50000\n",
      "Error: 4.306162773549671\n",
      "Epoch:51000\n",
      "Error: 4.229571200122892\n",
      "Epoch:52000\n",
      "Error: 4.155951935586708\n",
      "Epoch:53000\n",
      "Error: 4.085120804340927\n",
      "Epoch:54000\n",
      "Error: 4.016916342724798\n"
     ]
    }
   ],
   "source": [
    "#Capa 1\n",
    "w1,b1 = inicializarCapa(numCaracteristicas = 10,numNeuronas = 4)\n",
    "#Capa 2\n",
    "w2,b2 = inicializarCapa(numCaracteristicas = 4,numNeuronas = 2)\n",
    "\n",
    "lr = 0.01\n",
    "minError = 4.0\n",
    "maxEpochs = 100000\n",
    "m = x_train.shape[1]\n",
    "for counter in range(0,maxEpochs):\n",
    "    #Calculamos la capa 1\n",
    "    z1, a1 = capaNeuronal(w1,x_train,b1)\n",
    "    #Calculamos la capa 2 con las salidas de la 1\n",
    "    z2, y_obtenido = capaNeuronal(w2,a1,b2)\n",
    "    #Calculamos el error.\n",
    "    error = calcularError(y_train, y_obtenido)\n",
    "    #Luego calculamos las derivadas de la capa final\n",
    "    dz2, dw2, db2 = calcular_derivadas_capaFinal(y_esperado= y_train, \n",
    "                                                 y_obtenido = y_obtenido,\n",
    "                                                 entradaCapaActual=a1,\n",
    "                                                 numMuestras = m)\n",
    "    \n",
    "    #Y con la derivada de la capa 2, calculamos la derivada de la capa 1. \n",
    "    #Si hubiera mas capas, hay que hacer esto varias veces.\n",
    "    dz1, dw1, db1 =calcular_derivadas_capasIntermedias(dz_capaSiguiente=dz2,\n",
    "                                                       w_capaSiguiente=w2,\n",
    "                                                       salidaCapaActual=a1,\n",
    "                                                       entradaCapaActual=x_train, \n",
    "                                                       numMuestras = m)\n",
    "    \n",
    "    #Se ajustan los pesos sinápticos con las derivadas.\n",
    "    w1 = w1 - lr * dw1\n",
    "    b1 = b1 - lr * db1\n",
    "    w2 = w2 - lr * dw2\n",
    "    b2 = b2 - lr * db2\n",
    "    \n",
    "    if(error < minError):\n",
    "        break;\n",
    "    \n",
    "    if counter % 1000 == 0:\n",
    "        print(\"Epoch:\"+str(counter))\n",
    "        print(\"Error: \"+str(error))"
   ]
  },
  {
   "cell_type": "markdown",
   "metadata": {},
   "source": [
    "## Probando con datasets de prueba.\n",
    "Con el dataset de prueba generamos las salidas."
   ]
  },
  {
   "cell_type": "code",
   "execution_count": 8,
   "metadata": {},
   "outputs": [
    {
     "name": "stdout",
     "output_type": "stream",
     "text": [
      "Entradas [[  5.31688542 -12.24265594 -10.22327781 ...   7.50005583  -9.8109535\n",
      "    6.90086492]\n",
      " [ -4.64920833  -9.27609649  -5.23818007 ...  -5.6385815   -5.95692453\n",
      "   -4.89023813]\n",
      " [ -3.21253382  -1.45021317   0.7733527  ...  -3.44004448   1.21744711\n",
      "   -1.86642796]\n",
      " ...\n",
      " [  7.63085856   2.57681465   2.13335181 ...   7.52258639   1.04467335\n",
      "    5.66120665]\n",
      " [ -1.71308428  -5.63505245  -6.37941516 ...  -2.75565161  -6.04981498\n",
      "    0.17898373]\n",
      " [ -7.29767719  -6.48391689  -7.29127394 ... -10.84475047  -4.84089719\n",
      "   -6.23087581]]\n",
      "Genera salidas [[0.99857865 0.00283682 0.00283682 ... 0.00283682 0.00283682 0.99857865]\n",
      " [0.99851709 0.00268338 0.00268338 ... 0.00268338 0.00268338 0.99851709]]\n"
     ]
    },
    {
     "name": "stderr",
     "output_type": "stream",
     "text": [
      "/home/nightcrow/gintelligence/lib/python3.5/site-packages/ipykernel_launcher.py:11: RuntimeWarning: overflow encountered in exp\n",
      "  # This is added back by InteractiveShellApp.init_path()\n"
     ]
    }
   ],
   "source": [
    "#Probando:\n",
    "z1, a1 = capaNeuronal(w1,x_train,b1)\n",
    "#Calculamos la capa 2 con las salidas de la 1\n",
    "z2, y_obtenido_test = capaNeuronal(w2,a1,b2)\n",
    "\n",
    "print(\"Entradas \"+str(x_test))\n",
    "print(\"Genera salidas \"+str(y_obtenido_test))"
   ]
  },
  {
   "cell_type": "code",
   "execution_count": null,
   "metadata": {},
   "outputs": [],
   "source": []
  }
 ],
 "metadata": {
  "kernelspec": {
   "display_name": "Python 3",
   "language": "python",
   "name": "python3"
  },
  "language_info": {
   "codemirror_mode": {
    "name": "ipython",
    "version": 3
   },
   "file_extension": ".py",
   "mimetype": "text/x-python",
   "name": "python",
   "nbconvert_exporter": "python",
   "pygments_lexer": "ipython3",
   "version": "3.5.2"
  }
 },
 "nbformat": 4,
 "nbformat_minor": 2
}
