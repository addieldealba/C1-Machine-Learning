{
 "cells": [
  {
   "cell_type": "markdown",
   "metadata": {},
   "source": [
    "# Ejemplo 01\n",
    "## Dr. Antonio Arista Jalife.\n",
    "\n",
    "Para este ejemplo vamos a crear una población completa: Para ello crearemos uno por uno de los individuos de la población con su genotipo. Este proceso lo repetiremos por cada uno de los individuos nuevos. "
   ]
  },
  {
   "cell_type": "code",
   "execution_count": 1,
   "metadata": {},
   "outputs": [],
   "source": [
    "import numpy as np\n",
    "import random as rnd"
   ]
  },
  {
   "cell_type": "markdown",
   "metadata": {},
   "source": [
    "Vamos a inicializar un individuo: Para este ejemplo concreto, los valores de genes de un indivuo deben sumar 1.0 (el equivalente a 100%). El genotipo es el arreglo de esos genes de tal manera que distribuyan ese 100% entre todas las partes.\n",
    "\n",
    "Cada individuo empieza en 0, y aleatoriamente se le agregan datos con valores de 0 a 1, este algoritmo se asegura que la suma de todos los genes sea 1.0"
   ]
  },
  {
   "cell_type": "code",
   "execution_count": 2,
   "metadata": {},
   "outputs": [],
   "source": [
    "def inicializarIndividuo(individuo):\n",
    "    total = 1.0\n",
    "    cantidadGenes = len(individuo)\n",
    "    #Por cada uno de los genes...\n",
    "    for counter in range(0,cantidadGenes):\n",
    "        #Si llegaste al último gen, pon lo que sobre a este gen.\n",
    "        if(counter == cantidadGenes -1):\n",
    "            individuo[counter] = total\n",
    "        #Sino, \n",
    "        else:  \n",
    "            #obten un valor aleatorio entre 0 y lo que quede del 100%\n",
    "            randomValue = rnd.uniform(0,total)\n",
    "            #Dale ese valor aleatorio a ese gen.\n",
    "            individuo[counter] = randomValue\n",
    "            #Y resta lo que obtuviste del 100% original.\n",
    "            total -=randomValue\n",
    "    return individuo"
   ]
  },
  {
   "cell_type": "markdown",
   "metadata": {},
   "source": [
    "Ahora, inicializamos cada individuo en un ciclo."
   ]
  },
  {
   "cell_type": "code",
   "execution_count": 3,
   "metadata": {},
   "outputs": [],
   "source": [
    "def generarPoblacion(cantidadDeIndividuos, cantidadDeGenes):\n",
    "    #reservamos la memoria que usarán los individuos: Todos los individuos nacen con genes en 0.\n",
    "    poblacion = np.zeros((cantidadDeIndividuos, cantidadDeGenes))\n",
    "    #Y a cada individuo se le inicializan los genes con la función \"inicializar individuo\"\n",
    "    for counter in range(0,cantidadDeIndividuos):\n",
    "        poblacion[counter] = inicializarIndividuo(poblacion[counter])\n",
    "    return poblacion"
   ]
  },
  {
   "cell_type": "markdown",
   "metadata": {},
   "source": [
    "## Población de prueba.\n",
    "\n",
    "Generamos una población de 5 individuos, con 3 genes cada uno. Cada uno de los individuos, si se suman sus genes, suma 1.0"
   ]
  },
  {
   "cell_type": "code",
   "execution_count": 4,
   "metadata": {},
   "outputs": [
    {
     "name": "stdout",
     "output_type": "stream",
     "text": [
      "[[0.39303986 0.28229064 0.32466951]\n",
      " [0.78678726 0.09250008 0.12071266]\n",
      " [0.07078796 0.7846972  0.14451484]\n",
      " [0.11707682 0.78292904 0.09999413]\n",
      " [0.10569099 0.05113679 0.84317222]]\n"
     ]
    }
   ],
   "source": [
    "#Generaremos 5 individuos con 3 genes cada uno. \n",
    "poblacion = generarPoblacion(cantidadDeIndividuos = 5, cantidadDeGenes = 3)\n",
    "print(poblacion)"
   ]
  },
  {
   "cell_type": "code",
   "execution_count": null,
   "metadata": {},
   "outputs": [],
   "source": []
  }
 ],
 "metadata": {
  "kernelspec": {
   "display_name": "Python 3",
   "language": "python",
   "name": "python3"
  },
  "language_info": {
   "codemirror_mode": {
    "name": "ipython",
    "version": 3
   },
   "file_extension": ".py",
   "mimetype": "text/x-python",
   "name": "python",
   "nbconvert_exporter": "python",
   "pygments_lexer": "ipython3",
   "version": "3.6.8"
  }
 },
 "nbformat": 4,
 "nbformat_minor": 2
}
