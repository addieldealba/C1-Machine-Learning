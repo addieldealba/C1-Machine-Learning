{
 "cells": [
  {
   "cell_type": "markdown",
   "metadata": {},
   "source": [
    "# Ejemplo 04\n",
    "\n",
    "En este ejemplo vamos a evaluar una población, y eliminaremos aquellos individuos que no sean aptos, dejando solamente los N mas aptos. Para ello, requeriremos las funciones del ejemplo 01 y 02."
   ]
  },
  {
   "cell_type": "code",
   "execution_count": 1,
   "metadata": {},
   "outputs": [],
   "source": [
    "import numpy as np\n",
    "import random as rnd\n",
    "\n",
    "def inicializarIndividuo(individuo):\n",
    "    total = 1.0\n",
    "    cantidadGenes = len(individuo)\n",
    "    for counter in range(0,cantidadGenes):\n",
    "        if(counter == cantidadGenes -1):\n",
    "            individuo[counter] = total\n",
    "        else:  \n",
    "            randomValue = rnd.uniform(0,total)\n",
    "            individuo[counter] = randomValue\n",
    "            total -=randomValue\n",
    "    return individuo\n",
    "\n",
    "def generarPoblacion(cantidadDeIndividuos, cantidadDeGenes):\n",
    "    poblacion = np.zeros((cantidadDeIndividuos, cantidadDeGenes))\n",
    "    for counter in range(0,cantidadDeIndividuos):\n",
    "        poblacion[counter] = inicializarIndividuo(poblacion[counter])\n",
    "    return poblacion\n",
    "\n",
    "def ajustarIndividuo(individuo):\n",
    "    total = np.sum(individuo)\n",
    "    individuo = individuo / total\n",
    "    return individuo  "
   ]
  },
  {
   "cell_type": "markdown",
   "metadata": {},
   "source": [
    "## Evaluación:\n",
    "La función de evaluación es la clave de todo el algoritmo genético. Si un algoritmo genético no tiene una función de evaluación correcta, el resultado será mediocre (cuando mucho). La función objetivo debe de evaluar a cada individuo y obtenerle un \"puntaje\" de que tan buena es la solución. A mas puntaje, mejor solución.\n",
    "\n",
    "Esta función no es trivial de obtener y depende de cada problema que vayas a tratar. No existe una fórmula mágica para obtenerla y dependerá de tu talento con los algoritmos."
   ]
  },
  {
   "cell_type": "code",
   "execution_count": 8,
   "metadata": {},
   "outputs": [],
   "source": [
    "def evaluacion(poblacion, ganancias, probabilidadDeExito):\n",
    "    puntaje = np.zeros(poblacion.shape[0])\n",
    "\n",
    "    puntajeDeGanancia = np.dot(poblacion, ganancias)\n",
    "    puntajeDeExito = np.dot(poblacion, probabilidadDeExito)\n",
    "    puntaje = puntajeDeGanancia+puntajeDeExito\n",
    "    \n",
    "    ordenDeMayorAMenor = np.argsort(-puntaje)\n",
    "    poblacionOrdenada = poblacion[ordenDeMayorAMenor]\n",
    "    mejorPuntaje = (np.sort(-puntaje)[0])*-1\n",
    "    return poblacionOrdenada, mejorPuntaje"
   ]
  },
  {
   "cell_type": "markdown",
   "metadata": {},
   "source": [
    "## Eliminar individuos.\n",
    "Una vez ordenados de mayor a menor, habrá que eliminar a los individuos menos aptos: Puede ser por porcentaje o por cantidad. Te recomiendo encarecidamente eliminar individos por cantidad, mas no por porcentaje: debes mantener un gran control de la población si eliminas por porcentaje, ya que puedes llegar a la sobrepoblación y cada generación será cada vez mas grande, lo que acabará con tu memoria RAM"
   ]
  },
  {
   "cell_type": "code",
   "execution_count": 9,
   "metadata": {},
   "outputs": [],
   "source": [
    "def eliminarIndividuosPorPorcentaje(poblacion, porcentajeAMantener):\n",
    "    cantidad = poblacion.shape[0]\n",
    "    cantidadAMantener = int(porcentajeAMantener * cantidad)\n",
    "    return poblacion[:cantidadAMantener]\n",
    "    \n",
    "def eliminarIndividuosPorCantidad(poblacion, cantidadAMantener):    \n",
    "    return poblacion[:cantidadAMantener]"
   ]
  },
  {
   "cell_type": "markdown",
   "metadata": {},
   "source": [
    "# Prueba de evaluación y eliminación de individuos"
   ]
  },
  {
   "cell_type": "code",
   "execution_count": 17,
   "metadata": {},
   "outputs": [
    {
     "name": "stdout",
     "output_type": "stream",
     "text": [
      "Poblacion original\n",
      "[[7.28504738e-01 3.28138170e-02 1.74891124e-01 6.37903207e-02]\n",
      " [1.38484907e-02 6.16462602e-01 2.27474377e-01 1.42214530e-01]\n",
      " [2.55010658e-01 6.02400390e-01 3.05185870e-03 1.39537093e-01]\n",
      " [2.54636579e-01 4.99852572e-01 2.45476080e-01 3.47694398e-05]\n",
      " [7.27962522e-01 1.03001114e-01 1.39179729e-01 2.98566354e-02]\n",
      " [5.86677361e-01 1.99160429e-01 1.36823545e-01 7.73386655e-02]]\n",
      "\n",
      "Poblacion evaluada y ordenada de mejor a peor:\n",
      "\n",
      "[[1.38484907e-02 6.16462602e-01 2.27474377e-01 1.42214530e-01]\n",
      " [2.54636579e-01 4.99852572e-01 2.45476080e-01 3.47694398e-05]\n",
      " [2.55010658e-01 6.02400390e-01 3.05185870e-03 1.39537093e-01]\n",
      " [5.86677361e-01 1.99160429e-01 1.36823545e-01 7.73386655e-02]\n",
      " [7.28504738e-01 3.28138170e-02 1.74891124e-01 6.37903207e-02]\n",
      " [7.27962522e-01 1.03001114e-01 1.39179729e-01 2.98566354e-02]]\n",
      "\n",
      "Mejor puntaje:0.839471214485776\n",
      "\n",
      "Poblacion superviviente:\n",
      "[[1.38484907e-02 6.16462602e-01 2.27474377e-01 1.42214530e-01]\n",
      " [2.54636579e-01 4.99852572e-01 2.45476080e-01 3.47694398e-05]\n",
      " [2.55010658e-01 6.02400390e-01 3.05185870e-03 1.39537093e-01]]\n"
     ]
    }
   ],
   "source": [
    "poblacion = generarPoblacion(6,4)\n",
    "print(\"Poblacion original\")\n",
    "print(poblacion)\n",
    "\n",
    "ganancias = [0.1,0.2,0.9,0.4]\n",
    "probabilidadDeExito = [0.2,0.5,0.5,0.2]\n",
    "\n",
    "poblacion,mejorPuntaje= evaluacion(poblacion,ganancias, probabilidadDeExito)\n",
    "print(\"\\nPoblacion evaluada y ordenada de mejor a peor:\\n\")\n",
    "print(poblacion)\n",
    "\n",
    "print(\"\\nMejor puntaje:\"+str(mejorPuntaje)+\"\\n\")\n",
    "\n",
    "poblacion = eliminarIndividuosPorCantidad(poblacion, 3)\n",
    "print(\"Poblacion superviviente:\")\n",
    "print(poblacion)"
   ]
  },
  {
   "cell_type": "code",
   "execution_count": null,
   "metadata": {},
   "outputs": [],
   "source": []
  }
 ],
 "metadata": {
  "kernelspec": {
   "display_name": "Python 3",
   "language": "python",
   "name": "python3"
  },
  "language_info": {
   "codemirror_mode": {
    "name": "ipython",
    "version": 3
   },
   "file_extension": ".py",
   "mimetype": "text/x-python",
   "name": "python",
   "nbconvert_exporter": "python",
   "pygments_lexer": "ipython3",
   "version": "3.5.2"
  }
 },
 "nbformat": 4,
 "nbformat_minor": 2
}
