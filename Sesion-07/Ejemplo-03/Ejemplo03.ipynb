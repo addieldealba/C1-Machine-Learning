{
 "cells": [
  {
   "cell_type": "markdown",
   "metadata": {},
   "source": [
    "# Ejemplo 03\n",
    "\n",
    "En este ejemplo vamos a mutar un individuo. En la mutación original el individuo mutado puede tener un problema severo y volverse ineficaz, pero en esta versión modificada de mutación, se copia un individuo y se realiza la mutación sobre él. De esta manera solamente las mutaciones eficaces se mantienen y las ineficaces se descartarán.\n",
    "\n",
    "Primero, vamos a tomar las funciones del ejemplo 01 y algunas del ejemplo 02 "
   ]
  },
  {
   "cell_type": "code",
   "execution_count": 1,
   "metadata": {},
   "outputs": [],
   "source": [
    "import numpy as np\n",
    "import random as rnd\n",
    "\n",
    "def inicializarIndividuo(individuo):\n",
    "    total = 1.0\n",
    "    cantidadGenes = len(individuo)\n",
    "    for counter in range(0,cantidadGenes):\n",
    "        if(counter == cantidadGenes -1):\n",
    "            individuo[counter] = total\n",
    "        else:  \n",
    "            randomValue = rnd.uniform(0,total)\n",
    "            individuo[counter] = randomValue\n",
    "            total -=randomValue\n",
    "    return individuo\n",
    "\n",
    "def generarPoblacion(cantidadDeIndividuos, cantidadDeGenes):\n",
    "    poblacion = np.zeros((cantidadDeIndividuos, cantidadDeGenes))\n",
    "    for counter in range(0,cantidadDeIndividuos):\n",
    "        poblacion[counter] = inicializarIndividuo(poblacion[counter])\n",
    "    return poblacion\n",
    "\n",
    "def ajustarIndividuo(individuo):\n",
    "    total = np.sum(individuo)\n",
    "    individuo = individuo / total\n",
    "    return individuo  "
   ]
  },
  {
   "cell_type": "markdown",
   "metadata": {},
   "source": [
    "## Mutación:\n",
    "Un individuo sometido a mutación debe de sufrir un cambio sutil en su genotipo, para ello, al individuo elegido vamos a hacer que en algun punto de sus genes el valor se incremente de 0.1 a 0.3 (10 al 30% de incremento por mutación). Despues, vamos a copiarl al individuo, vamos a ajustar su gen elegido aleatoriamente, y luego lo ajustamos para que valga 1.0"
   ]
  },
  {
   "cell_type": "code",
   "execution_count": 2,
   "metadata": {},
   "outputs": [],
   "source": [
    "def mutacion(individuo):\n",
    "    mutationPoint = rnd.randint(1,len(individuo)-2)\n",
    "    mutationValue = rnd.uniform(0.1, 0.3)\n",
    "    individuoMutante = np.array(individuo, copy=True)\n",
    "    individuoMutante[mutationPoint] +=mutationValue\n",
    "    individuoMutante = ajustarIndividuo(individuoMutante)\n",
    "    return np.array([individuoMutante])"
   ]
  },
  {
   "cell_type": "markdown",
   "metadata": {},
   "source": [
    "## Mutación de la población:\n",
    "Por lo general una mutación de la población debe ser de una probabilidad muy baja, para que muy pocos individuos se vean afectados. En este algoritmo de mutación puedes elegir la probabilidad que desees, ya que al final serán eliminadas las mutaciones desagradables."
   ]
  },
  {
   "cell_type": "code",
   "execution_count": 8,
   "metadata": {},
   "outputs": [],
   "source": [
    "def mutarPoblacion(poblacion, probabilidadDeMutacion):\n",
    "    nuevaPoblacion = None\n",
    "    for counter in range(len(poblacion)):\n",
    "        probabilidad = rnd.random()\n",
    "        if(probabilidad < probabilidadDeMutacion):\n",
    "            nuevoMutante = mutacion(poblacion[counter])\n",
    "            if nuevaPoblacion is None:\n",
    "                nuevaPoblacion = nuevoMutante\n",
    "            else:\n",
    "                nuevaPoblacion = np.concatenate((nuevaPoblacion,nuevoMutante))\n",
    "    if not nuevaPoblacion is None:        \n",
    "        poblacion = np.concatenate((poblacion, nuevaPoblacion))\n",
    "    return poblacion"
   ]
  },
  {
   "cell_type": "markdown",
   "metadata": {},
   "source": [
    "## Prueba de mutacion"
   ]
  },
  {
   "cell_type": "code",
   "execution_count": 9,
   "metadata": {},
   "outputs": [
    {
     "name": "stdout",
     "output_type": "stream",
     "text": [
      "poblacion original\n",
      "[[0.53460463 0.29986701 0.11633647 0.04919189]\n",
      " [0.81758399 0.13116321 0.01175237 0.03950043]\n",
      " [0.25456443 0.6220495  0.06052234 0.06286374]\n",
      " [0.45935025 0.02989449 0.30258226 0.208173  ]\n",
      " [0.09456538 0.5224539  0.03962547 0.34335525]\n",
      " [0.49214659 0.06065541 0.12604833 0.32114967]]\n",
      "población + mutantes\n",
      "[[0.53460463 0.29986701 0.11633647 0.04919189]\n",
      " [0.81758399 0.13116321 0.01175237 0.03950043]\n",
      " [0.25456443 0.6220495  0.06052234 0.06286374]\n",
      " [0.45935025 0.02989449 0.30258226 0.208173  ]\n",
      " [0.09456538 0.5224539  0.03962547 0.34335525]\n",
      " [0.49214659 0.06065541 0.12604833 0.32114967]\n",
      " [0.48033375 0.37094165 0.10452647 0.04419813]\n",
      " [0.41399326 0.12568428 0.2727048  0.18761766]\n",
      " [0.41739004 0.05144192 0.25880067 0.27236737]]\n"
     ]
    }
   ],
   "source": [
    "poblacion = generarPoblacion(6,4)\n",
    "print(\"poblacion original\")\n",
    "print(poblacion)\n",
    "\n",
    "#50% de mutantes es muchisimo, pero es para probar.\n",
    "poblacion = mutarPoblacion(poblacion,0.5)\n",
    "print(\"población + mutantes\")\n",
    "print(poblacion)"
   ]
  },
  {
   "cell_type": "code",
   "execution_count": null,
   "metadata": {},
   "outputs": [],
   "source": []
  }
 ],
 "metadata": {
  "kernelspec": {
   "display_name": "Python 3",
   "language": "python",
   "name": "python3"
  },
  "language_info": {
   "codemirror_mode": {
    "name": "ipython",
    "version": 3
   },
   "file_extension": ".py",
   "mimetype": "text/x-python",
   "name": "python",
   "nbconvert_exporter": "python",
   "pygments_lexer": "ipython3",
   "version": "3.6.8"
  }
 },
 "nbformat": 4,
 "nbformat_minor": 2
}
