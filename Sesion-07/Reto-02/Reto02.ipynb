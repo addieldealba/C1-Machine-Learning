{
 "cells": [
  {
   "cell_type": "markdown",
   "metadata": {},
   "source": [
    "# Reto 02\n",
    "Une el ejemplo 01, 02 y 03 en un solo cuaderno: \n",
    "- Inicializa una población \n",
    "- Realiza la cruza de sus individuos.\n",
    "- Realiza la mutación de la población.\n",
    "\n",
    "Si lograste hacerlo, deberás ser capaz de generar una población, cruzarla, y mutarla."
   ]
  },
  {
   "cell_type": "code",
   "execution_count": 1,
   "metadata": {},
   "outputs": [],
   "source": [
    "import numpy as np\n",
    "import random as rnd"
   ]
  },
  {
   "cell_type": "markdown",
   "metadata": {},
   "source": [
    "### Funciones del ejemplo 01."
   ]
  },
  {
   "cell_type": "code",
   "execution_count": 2,
   "metadata": {},
   "outputs": [],
   "source": [
    "def inicializarIndividuo(individuo):\n",
    "    total = 1.0\n",
    "    cantidadGenes = len(individuo)\n",
    "    #Por cada uno de los genes...\n",
    "    for counter in range(0,cantidadGenes):\n",
    "        #Si llegaste al último gen, pon lo que sobre a este gen.\n",
    "        if(counter == cantidadGenes -1):\n",
    "            individuo[counter] = total\n",
    "        #Sino, \n",
    "        else:  \n",
    "            #obten un valor aleatorio entre 0 y lo que quede del 100%\n",
    "            randomValue = rnd.uniform(0,total)\n",
    "            #Dale ese valor aleatorio a ese gen.\n",
    "            individuo[counter] = randomValue\n",
    "            #Y resta lo que obtuviste del 100% original.\n",
    "            total -=randomValue\n",
    "    return individuo\n",
    "\n",
    "def generarPoblacion(cantidadDeIndividuos, cantidadDeGenes):\n",
    "    #reservamos la memoria que usarán los individuos: Todos los individuos nacen con genes en 0.\n",
    "    poblacion = np.zeros((cantidadDeIndividuos, cantidadDeGenes))\n",
    "    #Y a cada individuo se le inicializan los genes con la función \"inicializar individuo\"\n",
    "    for counter in range(0,cantidadDeIndividuos):\n",
    "        poblacion[counter] = inicializarIndividuo(poblacion[counter])\n",
    "    return poblacion"
   ]
  },
  {
   "cell_type": "markdown",
   "metadata": {},
   "source": [
    "### Funciones del ejemplo 02."
   ]
  },
  {
   "cell_type": "code",
   "execution_count": 3,
   "metadata": {},
   "outputs": [],
   "source": [
    "def ajustarIndividuo(individuo):\n",
    "    total = np.sum(individuo)\n",
    "    individuo = individuo / total\n",
    "    return individuo    \n",
    "\n",
    "def cruzarIndividuos(individuo1, individuo2):\n",
    "    crossPoint = rnd.randint(1,len(individuo1)-2)\n",
    "    hijo1 = np.append(individuo1[0:crossPoint], individuo2[crossPoint:len(individuo1)])\n",
    "    hijo2 = np.append(individuo2[0:crossPoint], individuo1[crossPoint:len(individuo1)])\n",
    "    hijo1 = ajustarIndividuo(hijo1)\n",
    "    hijo2 = ajustarIndividuo(hijo2)\n",
    "    return np.array([hijo1,hijo2])\n",
    "\n",
    "def cruzarPoblacion(poblacion, probabilidadDeCruza):    \n",
    "    nuevaPoblacion = None\n",
    "    for counter in range(len(poblacion)):\n",
    "        probabilidad = rnd.random()\n",
    "        #Si la probabilidad es menor que la probabilidad de cruza, entonces se procede a la cruza.\n",
    "        if(probabilidad < probabilidadDeCruza):\n",
    "            #Elige pareja:\n",
    "            pareja = rnd.randint(0,len(poblacion)-2)\n",
    "            #Si al elegir una pareja, elegiste sin querer al mismo individuo, intenta de nuevo.\n",
    "            while pareja == counter:\n",
    "                pareja = rnd.randint(0,len(poblacion)-2)\n",
    "            \n",
    "            #Haz la cruza. \n",
    "            nuevosIndividuos = cruzarIndividuos(poblacion[counter],poblacion[pareja])\n",
    "            \n",
    "            #Añade los nuevos individuos a una lista de nuevos individuos.\n",
    "            if nuevaPoblacion is None:\n",
    "                nuevaPoblacion = nuevosIndividuos\n",
    "            else:\n",
    "                nuevaPoblacion = np.concatenate((nuevaPoblacion,nuevosIndividuos))\n",
    "                \n",
    "    #Al final del ciclo, si hay nuevos individuos, añadelos a la población.\n",
    "    if not nuevaPoblacion is None:\n",
    "        poblacion = np.concatenate((poblacion, nuevaPoblacion))\n",
    "    return poblacion"
   ]
  },
  {
   "cell_type": "markdown",
   "metadata": {},
   "source": [
    "### Funciones del ejemplo 03."
   ]
  },
  {
   "cell_type": "code",
   "execution_count": 4,
   "metadata": {},
   "outputs": [],
   "source": [
    "def mutacion(individuo):\n",
    "    mutationPoint = rnd.randint(1,len(individuo)-2)\n",
    "    mutationValue = rnd.uniform(0.1, 0.3)\n",
    "    individuoMutante = np.array(individuo, copy=True)\n",
    "    individuoMutante[mutationPoint] +=mutationValue\n",
    "    individuoMutante = ajustarIndividuo(individuoMutante)\n",
    "    return np.array([individuoMutante])\n",
    "\n",
    "def mutarPoblacion(poblacion, probabilidadDeMutacion):\n",
    "    nuevaPoblacion = None\n",
    "    for counter in range(len(poblacion)):\n",
    "        probabilidad = rnd.random()\n",
    "        if(probabilidad < probabilidadDeMutacion):\n",
    "            nuevoMutante = mutacion(poblacion[counter])\n",
    "            if nuevaPoblacion is None:\n",
    "                nuevaPoblacion = nuevoMutante\n",
    "            else:\n",
    "                nuevaPoblacion = np.concatenate((nuevaPoblacion,nuevoMutante))\n",
    "    if not nuevaPoblacion is None:        \n",
    "        poblacion = np.concatenate((poblacion, nuevaPoblacion))\n",
    "    return poblacion"
   ]
  },
  {
   "cell_type": "markdown",
   "metadata": {},
   "source": [
    "### Unión de los ejemplos 01, 02 y 03 en un solo código."
   ]
  },
  {
   "cell_type": "code",
   "execution_count": 5,
   "metadata": {},
   "outputs": [
    {
     "name": "stdout",
     "output_type": "stream",
     "text": [
      "Poblacion original:\n",
      "[[0.20029823 0.04746856 0.75223321]\n",
      " [0.02065728 0.33157617 0.64776655]\n",
      " [0.50551916 0.37707506 0.11740578]\n",
      " [0.79400336 0.17844675 0.0275499 ]\n",
      " [0.11531978 0.06458992 0.82009029]\n",
      " [0.6339995  0.0990013  0.2669992 ]\n",
      " [0.57229087 0.13474357 0.29296556]\n",
      " [0.46658007 0.36938507 0.16403486]\n",
      " [0.84257586 0.10120924 0.05621489]\n",
      " [0.58313113 0.39863979 0.01822908]]\n",
      "Población con hijos añadidos:\n",
      "[[0.20029823 0.04746856 0.75223321]\n",
      " [0.02065728 0.33157617 0.64776655]\n",
      " [0.50551916 0.37707506 0.11740578]\n",
      " [0.79400336 0.17844675 0.0275499 ]\n",
      " [0.11531978 0.06458992 0.82009029]\n",
      " [0.6339995  0.0990013  0.2669992 ]\n",
      " [0.57229087 0.13474357 0.29296556]\n",
      " [0.46658007 0.36938507 0.16403486]\n",
      " [0.84257586 0.10120924 0.05621489]\n",
      " [0.58313113 0.39863979 0.01822908]\n",
      " [0.31894249 0.21455731 0.4665002 ]\n",
      " [0.41712386 0.03459826 0.54827787]\n",
      " [0.21236398 0.24813333 0.53950269]\n",
      " [0.39279494 0.04433164 0.56287342]\n",
      " [0.54307774 0.31641162 0.14051065]\n",
      " [0.56040231 0.11890897 0.32068873]\n",
      " [0.51757735 0.33407024 0.14835241]\n",
      " [0.52173287 0.15067114 0.32759599]]\n",
      "población + hijos + mutantes\n",
      "[[0.20029823 0.04746856 0.75223321]\n",
      " [0.02065728 0.33157617 0.64776655]\n",
      " [0.50551916 0.37707506 0.11740578]\n",
      " [0.79400336 0.17844675 0.0275499 ]\n",
      " [0.11531978 0.06458992 0.82009029]\n",
      " [0.6339995  0.0990013  0.2669992 ]\n",
      " [0.57229087 0.13474357 0.29296556]\n",
      " [0.46658007 0.36938507 0.16403486]\n",
      " [0.84257586 0.10120924 0.05621489]\n",
      " [0.58313113 0.39863979 0.01822908]\n",
      " [0.31894249 0.21455731 0.4665002 ]\n",
      " [0.41712386 0.03459826 0.54827787]\n",
      " [0.21236398 0.24813333 0.53950269]\n",
      " [0.39279494 0.04433164 0.56287342]\n",
      " [0.54307774 0.31641162 0.14051065]\n",
      " [0.56040231 0.11890897 0.32068873]\n",
      " [0.51757735 0.33407024 0.14835241]\n",
      " [0.52173287 0.15067114 0.32759599]\n",
      " [0.0186671  0.39597404 0.58535886]\n",
      " [0.45942447 0.43387515 0.10670038]\n",
      " [0.66915937 0.28619572 0.04464491]\n",
      " [0.4528215  0.53302299 0.01415551]\n",
      " [0.32961805 0.23712386 0.43325808]\n",
      " [0.31061923 0.24426477 0.445116  ]\n",
      " [0.49290506 0.22503133 0.28206361]\n",
      " [0.40935923 0.47330676 0.11733401]]\n"
     ]
    }
   ],
   "source": [
    "poblacion = generarPoblacion(10,3)\n",
    "print(\"Poblacion original:\")\n",
    "print(poblacion)\n",
    "\n",
    "poblacion = cruzarPoblacion(poblacion, 0.3)\n",
    "print(\"Población con hijos añadidos:\")\n",
    "print(poblacion)\n",
    "\n",
    "poblacion = mutarPoblacion(poblacion,0.3)\n",
    "print(\"población + hijos + mutantes\")\n",
    "print(poblacion)"
   ]
  },
  {
   "cell_type": "code",
   "execution_count": null,
   "metadata": {},
   "outputs": [],
   "source": []
  }
 ],
 "metadata": {
  "kernelspec": {
   "display_name": "Python 3",
   "language": "python",
   "name": "python3"
  },
  "language_info": {
   "codemirror_mode": {
    "name": "ipython",
    "version": 3
   },
   "file_extension": ".py",
   "mimetype": "text/x-python",
   "name": "python",
   "nbconvert_exporter": "python",
   "pygments_lexer": "ipython3",
   "version": "3.5.2"
  }
 },
 "nbformat": 4,
 "nbformat_minor": 2
}
