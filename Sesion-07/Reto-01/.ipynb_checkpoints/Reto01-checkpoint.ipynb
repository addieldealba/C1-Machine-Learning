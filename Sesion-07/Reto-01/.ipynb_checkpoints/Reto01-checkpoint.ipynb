{
 "cells": [
  {
   "cell_type": "markdown",
   "metadata": {},
   "source": [
    "# Reto 01\n",
    "## Dr. Antonio Arista Jalife.\n",
    "Une el ejemplo 01 y el ejemplo 02 en un solo cuaderno: Inicializa una población y realiza la cruza de sus individuos.\n",
    "\n",
    "Si lograste hacerlo, deberás ser capaz de generar una población y cruzarla."
   ]
  },
  {
   "cell_type": "code",
   "execution_count": 1,
   "metadata": {},
   "outputs": [],
   "source": [
    "import numpy as np\n",
    "import random as rnd"
   ]
  },
  {
   "cell_type": "markdown",
   "metadata": {},
   "source": [
    "### Funciones del ejemplo 01."
   ]
  },
  {
   "cell_type": "code",
   "execution_count": 2,
   "metadata": {},
   "outputs": [],
   "source": [
    "def inicializarIndividuo(individuo):\n",
    "    total = 1.0\n",
    "    cantidadGenes = len(individuo)\n",
    "    #Por cada uno de los genes...\n",
    "    for counter in range(0,cantidadGenes):\n",
    "        #Si llegaste al último gen, pon lo que sobre a este gen.\n",
    "        if(counter == cantidadGenes -1):\n",
    "            individuo[counter] = total\n",
    "        #Sino, \n",
    "        else:  \n",
    "            #obten un valor aleatorio entre 0 y lo que quede del 100%\n",
    "            randomValue = rnd.uniform(0,total)\n",
    "            #Dale ese valor aleatorio a ese gen.\n",
    "            individuo[counter] = randomValue\n",
    "            #Y resta lo que obtuviste del 100% original.\n",
    "            total -=randomValue\n",
    "    return individuo\n",
    "\n",
    "def generarPoblacion(cantidadDeIndividuos, cantidadDeGenes):\n",
    "    #reservamos la memoria que usarán los individuos: Todos los individuos nacen con genes en 0.\n",
    "    poblacion = np.zeros((cantidadDeIndividuos, cantidadDeGenes))\n",
    "    #Y a cada individuo se le inicializan los genes con la función \"inicializar individuo\"\n",
    "    for counter in range(0,cantidadDeIndividuos):\n",
    "        poblacion[counter] = inicializarIndividuo(poblacion[counter])\n",
    "    return poblacion"
   ]
  },
  {
   "cell_type": "markdown",
   "metadata": {},
   "source": [
    "### Funciones del ejemplo 02."
   ]
  },
  {
   "cell_type": "code",
   "execution_count": 3,
   "metadata": {},
   "outputs": [],
   "source": [
    "def ajustarIndividuo(individuo):\n",
    "    total = np.sum(individuo)\n",
    "    individuo = individuo / total\n",
    "    return individuo    \n",
    "\n",
    "def cruzarIndividuos(individuo1, individuo2):\n",
    "    crossPoint = rnd.randint(1,len(individuo1)-2)\n",
    "    hijo1 = np.append(individuo1[0:crossPoint], individuo2[crossPoint:len(individuo1)])\n",
    "    hijo2 = np.append(individuo2[0:crossPoint], individuo1[crossPoint:len(individuo1)])\n",
    "    hijo1 = ajustarIndividuo(hijo1)\n",
    "    hijo2 = ajustarIndividuo(hijo2)\n",
    "    return np.array([hijo1,hijo2])\n",
    "\n",
    "def cruzarPoblacion(poblacion, probabilidadDeCruza):    \n",
    "    nuevaPoblacion = None\n",
    "    for counter in range(len(poblacion)):\n",
    "        probabilidad = rnd.random()\n",
    "        #Si la probabilidad es menor que la probabilidad de cruza, entonces se procede a la cruza.\n",
    "        if(probabilidad < probabilidadDeCruza):\n",
    "            #Elige pareja:\n",
    "            pareja = rnd.randint(0,len(poblacion)-2)\n",
    "            #Si al elegir una pareja, elegiste sin querer al mismo individuo, intenta de nuevo.\n",
    "            while pareja == counter:\n",
    "                pareja = rnd.randint(0,len(poblacion)-2)\n",
    "            \n",
    "            #Haz la cruza. \n",
    "            nuevosIndividuos = cruzarIndividuos(poblacion[counter],poblacion[pareja])\n",
    "            \n",
    "            #Añade los nuevos individuos a una lista de nuevos individuos.\n",
    "            if nuevaPoblacion is None:\n",
    "                nuevaPoblacion = nuevosIndividuos\n",
    "            else:\n",
    "                nuevaPoblacion = np.concatenate((nuevaPoblacion,nuevosIndividuos))\n",
    "                \n",
    "    #Al final del ciclo, si hay nuevos individuos, añadelos a la población.\n",
    "    if not nuevaPoblacion is None:\n",
    "        poblacion = np.concatenate((poblacion, nuevaPoblacion))\n",
    "    return poblacion"
   ]
  },
  {
   "cell_type": "markdown",
   "metadata": {},
   "source": [
    "### Unión de los ejemplos 01 y 02 en un solo código.\n"
   ]
  },
  {
   "cell_type": "code",
   "execution_count": 4,
   "metadata": {},
   "outputs": [
    {
     "name": "stdout",
     "output_type": "stream",
     "text": [
      "Poblacion original:\n",
      "[[0.84316922 0.01027386 0.14655692]\n",
      " [0.96579969 0.02102075 0.01317956]\n",
      " [0.3782845  0.57195469 0.04976081]\n",
      " [0.08449326 0.24452044 0.67098629]\n",
      " [0.11822864 0.60194472 0.27982664]\n",
      " [0.56075116 0.26353024 0.1757186 ]\n",
      " [0.65178139 0.12834943 0.21986918]\n",
      " [0.92296783 0.06614215 0.01089002]\n",
      " [0.27632914 0.16753923 0.55613163]\n",
      " [0.44751422 0.32424409 0.22824169]]\n",
      "Población con hijos añadidos:\n",
      "[[0.84316922 0.01027386 0.14655692]\n",
      " [0.96579969 0.02102075 0.01317956]\n",
      " [0.3782845  0.57195469 0.04976081]\n",
      " [0.08449326 0.24452044 0.67098629]\n",
      " [0.11822864 0.60194472 0.27982664]\n",
      " [0.56075116 0.26353024 0.1757186 ]\n",
      " [0.65178139 0.12834943 0.21986918]\n",
      " [0.92296783 0.06614215 0.01089002]\n",
      " [0.27632914 0.16753923 0.55613163]\n",
      " [0.44751422 0.32424409 0.22824169]\n",
      " [0.37984634 0.16563532 0.45451834]\n",
      " [0.16132609 0.50316795 0.33550597]\n",
      " [0.59751265 0.3702731  0.03221425]\n",
      " [0.83081627 0.14526626 0.02391747]]\n"
     ]
    }
   ],
   "source": [
    "#6 individuos, 4 genes cada uno\n",
    "poblacion = generarPoblacion(10,3)\n",
    "print(\"Poblacion original:\")\n",
    "print(poblacion)\n",
    "\n",
    "#50% de probabilidad de cruza:\n",
    "poblacion = cruzarPoblacion(poblacion, 0.5)\n",
    "print(\"Población con hijos añadidos:\")\n",
    "print(poblacion)"
   ]
  },
  {
   "cell_type": "code",
   "execution_count": null,
   "metadata": {},
   "outputs": [],
   "source": []
  }
 ],
 "metadata": {
  "kernelspec": {
   "display_name": "Python 3",
   "language": "python",
   "name": "python3"
  },
  "language_info": {
   "codemirror_mode": {
    "name": "ipython",
    "version": 3
   },
   "file_extension": ".py",
   "mimetype": "text/x-python",
   "name": "python",
   "nbconvert_exporter": "python",
   "pygments_lexer": "ipython3",
   "version": "3.6.8"
  }
 },
 "nbformat": 4,
 "nbformat_minor": 2
}
