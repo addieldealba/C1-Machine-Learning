{
 "cells": [
  {
   "cell_type": "markdown",
   "metadata": {},
   "source": [
    "# Ejemplo 02\n",
    "\n",
    "En este ejemplo vamos a tomar dos individuos y realizar la cruza de ellos. La cruza siempre arrojará 2 individuos nuevos, con los genes intercambiados. Esto hace que los individuos mezclen sus genes para evitar que se estanquen.\n",
    "\n",
    "Primero, vamos a tomar las funciones del ejemplo 01. "
   ]
  },
  {
   "cell_type": "code",
   "execution_count": 1,
   "metadata": {},
   "outputs": [],
   "source": [
    "import numpy as np\n",
    "import random as rnd\n",
    "\n",
    "def inicializarIndividuo(individuo):\n",
    "    total = 1.0\n",
    "    cantidadGenes = len(individuo)\n",
    "    for counter in range(0,cantidadGenes):\n",
    "        if(counter == cantidadGenes -1):\n",
    "            individuo[counter] = total\n",
    "        else:  \n",
    "            randomValue = rnd.uniform(0,total)\n",
    "            individuo[counter] = randomValue\n",
    "            total -=randomValue\n",
    "    return individuo\n",
    "\n",
    "def generarPoblacion(cantidadDeIndividuos, cantidadDeGenes):\n",
    "    poblacion = np.zeros((cantidadDeIndividuos, cantidadDeGenes))\n",
    "    for counter in range(0,cantidadDeIndividuos):\n",
    "        poblacion[counter] = inicializarIndividuo(poblacion[counter])\n",
    "    return poblacion"
   ]
  },
  {
   "cell_type": "markdown",
   "metadata": {},
   "source": [
    "### Ajuste de genes.\n",
    "Un paso importante antes de continuar es el ajuste de los genes de un individuo:\n",
    "\n",
    "De nada nos sirve un indviduo que se pase del 100% al sumar sus genes, o que no llegue al 100%. \n",
    "Por ende, esta función \"normaliza\" al individuo, de tal manera que la suma de sus genes siempre sea 1.0, sin importar si hubo cambios. \n",
    "\n",
    "Esto puede variar dependiendo de la aplicación que tengas, pero para porcentajes, es idóneo."
   ]
  },
  {
   "cell_type": "code",
   "execution_count": 2,
   "metadata": {},
   "outputs": [],
   "source": [
    "def ajustarIndividuo(individuo):\n",
    "    total = np.sum(individuo)\n",
    "    individuo = individuo / total\n",
    "    return individuo    "
   ]
  },
  {
   "cell_type": "markdown",
   "metadata": {},
   "source": [
    "## Cruza de individuos\n",
    "Dependiendo de un punto de cruza aleatorio (que puede ser entre cualquiera de los genes), se generan dos individuos hijo: uno con ciertos genes del padre y el resto de la madre. El segundo hijo es inverso, de tal manera que si el padre tiene un genotipo:\n",
    "\n",
    "- p p p p \n",
    "\n",
    "y la madre:\n",
    "- m m m m\n",
    "\n",
    "Entonces si asumimos que el punto de cruza es entre el gen 1 y 2, el hijo 1 es:\n",
    "\n",
    "- p p m m\n",
    "\n",
    "y el hijo 2 es:\n",
    "\n",
    "- m m p p\n",
    "\n",
    "Por evidentes razones, cuando hacemos la cruza, se deben ajustar los nuevos individuos, ya que al cruzar no podemos asegurar que los genes sumen 1.0"
   ]
  },
  {
   "cell_type": "code",
   "execution_count": 3,
   "metadata": {},
   "outputs": [],
   "source": [
    "def cruzarIndividuos(individuo1, individuo2):\n",
    "    crossPoint = rnd.randint(1,len(individuo1)-2)\n",
    "    hijo1 = np.append(individuo1[0:crossPoint], individuo2[crossPoint:len(individuo1)])\n",
    "    hijo2 = np.append(individuo2[0:crossPoint], individuo1[crossPoint:len(individuo1)])\n",
    "    hijo1 = ajustarIndividuo(hijo1)\n",
    "    hijo2 = ajustarIndividuo(hijo2)\n",
    "    return np.array([hijo1,hijo2])"
   ]
  },
  {
   "cell_type": "markdown",
   "metadata": {},
   "source": [
    "## Cruza poblacional.\n",
    "Aún cuando un individo sea idóneo y apto, no necesariamente quiere decir que se cruzará. Hay una probabilidad de cruza, y esta se lleva a cabo de la siguiente manera: \n",
    "- Se determina aleatoriamente si un individuo se cruzará. si no se cruza, no pasa nada.\n",
    "- Si se cruza, se debe elegir a algun otro individuo al azar.\n",
    "- Se realiza la operación de cruza entre dos individuos y los hijos se agregan a una lista nueva de población.\n",
    "- Finalmente, la lista de nuevos individuos se agregan a la población. "
   ]
  },
  {
   "cell_type": "code",
   "execution_count": 4,
   "metadata": {},
   "outputs": [],
   "source": [
    "def cruzarPoblacion(poblacion, probabilidadDeCruza):    \n",
    "    nuevaPoblacion = None\n",
    "    for counter in range(len(poblacion)):\n",
    "        probabilidad = rnd.random()\n",
    "        #Si la probabilidad es menor que la probabilidad de cruza, entonces se procede a la cruza.\n",
    "        if(probabilidad < probabilidadDeCruza):\n",
    "            #Elige pareja:\n",
    "            pareja = rnd.randint(0,len(poblacion)-2)\n",
    "            #Si al elegir una pareja, elegiste sin querer al mismo individuo, intenta de nuevo.\n",
    "            while pareja == counter:\n",
    "                pareja = rnd.randint(0,len(poblacion)-2)\n",
    "            \n",
    "            #Haz la cruza. \n",
    "            nuevosIndividuos = cruzarIndividuos(poblacion[counter],poblacion[pareja])\n",
    "            \n",
    "            #Añade los nuevos individuos a una lista de nuevos individuos.\n",
    "            if nuevaPoblacion is None:\n",
    "                nuevaPoblacion = nuevosIndividuos\n",
    "            else:\n",
    "                nuevaPoblacion = np.concatenate((nuevaPoblacion,nuevosIndividuos))\n",
    "                \n",
    "    #Al final del ciclo, si hay nuevos individuos, añadelos a la población.\n",
    "    if not nuevaPoblacion is None:\n",
    "        poblacion = np.concatenate((poblacion, nuevaPoblacion))\n",
    "    return poblacion"
   ]
  },
  {
   "cell_type": "markdown",
   "metadata": {},
   "source": [
    "## Probar la cruza.\n",
    "Hagamos una cruza de datos y veamos que tal se ve!"
   ]
  },
  {
   "cell_type": "code",
   "execution_count": 6,
   "metadata": {},
   "outputs": [
    {
     "name": "stdout",
     "output_type": "stream",
     "text": [
      "Poblacion original:\n",
      "[[4.91618022e-01 4.50119808e-01 1.63786448e-02 4.18835250e-02]\n",
      " [2.77237130e-01 1.06281232e-01 2.35366946e-01 3.81114691e-01]\n",
      " [2.04291166e-01 6.80675739e-01 3.38676982e-02 8.11653975e-02]\n",
      " [6.40668934e-01 3.01733276e-02 1.12247888e-01 2.16909850e-01]\n",
      " [9.94807566e-01 4.30742326e-03 3.75716772e-04 5.09294157e-04]\n",
      " [7.24093581e-01 1.10531297e-01 2.81906889e-02 1.37184433e-01]]\n",
      "Población con hijos añadidos:\n",
      "[[4.91618022e-01 4.50119808e-01 1.63786448e-02 4.18835250e-02]\n",
      " [2.77237130e-01 1.06281232e-01 2.35366946e-01 3.81114691e-01]\n",
      " [2.04291166e-01 6.80675739e-01 3.38676982e-02 8.11653975e-02]\n",
      " [6.40668934e-01 3.01733276e-02 1.12247888e-01 2.16909850e-01]\n",
      " [9.94807566e-01 4.30742326e-03 3.75716772e-04 5.09294157e-04]\n",
      " [7.24093581e-01 1.10531297e-01 2.81906889e-02 1.37184433e-01]\n",
      " [4.65207747e-01 4.25938865e-01 3.20482873e-02 7.68051008e-02]\n",
      " [2.16587011e-01 7.21644145e-01 1.73644401e-02 4.44044041e-02]\n",
      " [5.56085287e-01 2.13180065e-01 6.79322017e-02 1.62802447e-01]\n",
      " [1.36062715e-01 4.53346032e-01 1.56759915e-01 2.53831337e-01]\n",
      " [1.68262103e-01 5.60630857e-01 9.24517007e-02 1.78655339e-01]\n",
      " [8.15229703e-01 3.83945460e-02 4.30955086e-02 1.03280242e-01]\n",
      " [4.46030946e-01 4.73883510e-01 2.35785452e-02 5.65069992e-02]\n",
      " [3.62461156e-01 5.35346654e-02 1.99154472e-01 3.84849706e-01]\n",
      " [8.92886304e-01 3.86611378e-03 3.03978427e-02 7.28497393e-02]\n",
      " [2.30615481e-01 7.68385468e-01 4.24130450e-04 5.74920196e-04]\n",
      " [6.22189721e-01 9.49758964e-02 9.64509063e-02 1.86383477e-01]\n",
      " [7.66151179e-01 3.60831145e-02 3.37121537e-02 1.64053553e-01]]\n"
     ]
    }
   ],
   "source": [
    "#6 individuos, 4 genes cada uno\n",
    "poblacion = generarPoblacion(6,4)\n",
    "print(\"Poblacion original:\")\n",
    "print(poblacion)\n",
    "\n",
    "#50% de probabilidad de cruza:\n",
    "poblacion = cruzarPoblacion(poblacion, 0.5)\n",
    "print(\"Población con hijos añadidos:\")\n",
    "print(poblacion)"
   ]
  },
  {
   "cell_type": "code",
   "execution_count": null,
   "metadata": {},
   "outputs": [],
   "source": []
  }
 ],
 "metadata": {
  "kernelspec": {
   "display_name": "Python 3",
   "language": "python",
   "name": "python3"
  },
  "language_info": {
   "codemirror_mode": {
    "name": "ipython",
    "version": 3
   },
   "file_extension": ".py",
   "mimetype": "text/x-python",
   "name": "python",
   "nbconvert_exporter": "python",
   "pygments_lexer": "ipython3",
   "version": "3.5.2"
  }
 },
 "nbformat": 4,
 "nbformat_minor": 2
}
